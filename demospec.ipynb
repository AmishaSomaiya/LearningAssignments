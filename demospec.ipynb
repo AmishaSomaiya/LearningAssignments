{
 "cells": [
  {
   "cell_type": "markdown",
   "metadata": {},
   "source": [
    "# Output plot with interactive zoom as per user choice of signal and iplot"
   ]
  },
  {
   "cell_type": "code",
   "execution_count": 1,
   "metadata": {},
   "outputs": [],
   "source": [
    "%matplotlib qt   \n",
    "import matplotlib.pyplot as plt\n",
    "import numpy as np\n",
    "from pylab import *"
   ]
  },
  {
   "cell_type": "code",
   "execution_count": 2,
   "metadata": {},
   "outputs": [
    {
     "name": "stdout",
     "output_type": "stream",
     "text": [
      "1: sinusoidal input 2:rectangular signal\n",
      "Enter input signal     :2\n",
      "Enter iplot as 0,1 or2   :1\n"
     ]
    }
   ],
   "source": [
    "print('1: sinusoidal input 2:rectangular signal')\n",
    "u_input=int(input('Enter input signal     :'))\n",
    "iplot=int(input('Enter iplot as 0,1 or2   :'))"
   ]
  },
  {
   "cell_type": "code",
   "execution_count": 3,
   "metadata": {},
   "outputs": [],
   "source": [
    "if u_input == 1:\n",
    "  f_s = 50.0 # Hz\n",
    "  f = 1.0 # Hz\n",
    "  time = np.arange(0.0, 3.0, 1/f_s)\n",
    "  y = 8 * np.sin(2 * np.pi * f * time) + 3 * np.sin(10 * 2 * np.pi * f * time)\n",
    "elif u_input == 2:\n",
    "  x = np.arange(-3, 3, 0.01)\n",
    "  y = np.zeros(len(x))\n",
    "  y[200:400] = 1\n",
    "    \n",
    "yShift = np.fft.fftshift(y)\n",
    "fftyShift = np.fft.fft(yShift)\n",
    "ffty = np.fft.fftshift(fftyShift)\n",
    "Xabs = abs(ffty)\n",
    "Xphase = angle(ffty)\n",
    "\n",
    "\n",
    "if iplot == 0:\n",
    "    subplot(2,1,1)\n",
    "    plt.plot(y)\n",
    "    plt.xlabel(\"Frequency (Hz)\")\n",
    "    plt.ylabel(\"Input Signal\")    \n",
    "    subplot(2,1,2)\n",
    "    plt.plot(Xabs)\n",
    "    plt.xlabel(\"Frequency (Hz)\")\n",
    "    plt.ylabel(\"$|Magnitude|$\")\n",
    "    plt.subplots_adjust(hspace=0.4)\n",
    "elif iplot == 1:\n",
    "    subplot(2,1,1)\n",
    "    plt.plot(Xabs)\n",
    "    plt.xlabel(\"Frequency (Hz)\")\n",
    "    plt.ylabel(\"$|Magnitude|$\")\n",
    "    subplot(2,1,2)\n",
    "    plt.plot(Xphase)\n",
    "    plt.xlabel(\"Frequency (Hz)\")\n",
    "    plt.ylabel(\"$Phase$\")    \n",
    "elif iplot == 2:\n",
    "    print(\"No plot since iplot = 2\")\n",
    "else:\n",
    "    print(\"Select iplot as 0, 1 or 2\")\n",
    "plt.show()"
   ]
  },
  {
   "cell_type": "code",
   "execution_count": null,
   "metadata": {},
   "outputs": [],
   "source": []
  },
  {
   "cell_type": "code",
   "execution_count": null,
   "metadata": {},
   "outputs": [],
   "source": []
  }
 ],
 "metadata": {
  "kernelspec": {
   "display_name": "Python 3",
   "language": "python",
   "name": "python3"
  },
  "language_info": {
   "codemirror_mode": {
    "name": "ipython",
    "version": 3
   },
   "file_extension": ".py",
   "mimetype": "text/x-python",
   "name": "python",
   "nbconvert_exporter": "python",
   "pygments_lexer": "ipython3",
   "version": "3.9.1"
  }
 },
 "nbformat": 4,
 "nbformat_minor": 4
}
